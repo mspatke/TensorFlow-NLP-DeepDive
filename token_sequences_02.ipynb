{
  "nbformat": 4,
  "nbformat_minor": 0,
  "metadata": {
    "colab": {
      "private_outputs": true,
      "provenance": [],
      "authorship_tag": "ABX9TyPAbYUHwIORXgmC0QQGPmEs",
      "include_colab_link": true
    },
    "kernelspec": {
      "name": "python3",
      "display_name": "Python 3"
    },
    "language_info": {
      "name": "python"
    }
  },
  "cells": [
    {
      "cell_type": "markdown",
      "metadata": {
        "id": "view-in-github",
        "colab_type": "text"
      },
      "source": [
        "<a href=\"https://colab.research.google.com/github/mspatke/TensorFlow-NLP-DeepDive/blob/main/token_sequences_02.ipynb\" target=\"_parent\"><img src=\"https://colab.research.google.com/assets/colab-badge.svg\" alt=\"Open In Colab\"/></a>"
      ]
    },
    {
      "cell_type": "markdown",
      "source": [
        "\n",
        "# Creating sequences of tokens\n",
        "\n",
        "The notebook covers the creation of sequences of tokens from words in a sentence."
      ],
      "metadata": {
        "id": "ezWiI2FPaTQZ"
      }
    },
    {
      "cell_type": "code",
      "source": [
        "from tensorflow.keras.preprocessing.text import Tokenizer"
      ],
      "metadata": {
        "id": "Zevf2GW6abPo"
      },
      "execution_count": null,
      "outputs": []
    },
    {
      "cell_type": "markdown",
      "source": [
        "## Define training sentences in a list"
      ],
      "metadata": {
        "id": "mVYt-T8nai8Z"
      }
    },
    {
      "cell_type": "code",
      "source": [
        "##define list of sentences to tokenize\n",
        "train_sentences = [\n",
        "             'It is a sunny day',\n",
        "             'It is a cloudy day',\n",
        "             'Will it rain today?']"
      ],
      "metadata": {
        "id": "zQoVnzipadIp"
      },
      "execution_count": null,
      "outputs": []
    },
    {
      "cell_type": "markdown",
      "source": [
        "## Train the tokenizer"
      ],
      "metadata": {
        "id": "MskFiX4qaspa"
      }
    },
    {
      "cell_type": "code",
      "source": [
        "tokenizer = Tokenizer(num_words=100)\n",
        "\n",
        "tokenizer.fit_on_texts(train_sentences)\n",
        "\n",
        "word_index=tokenizer.word_index"
      ],
      "metadata": {
        "id": "5AnkRjgwalJ3"
      },
      "execution_count": null,
      "outputs": []
    },
    {
      "cell_type": "code",
      "source": [
        "word_index"
      ],
      "metadata": {
        "id": "2Y4x6Gp0a_S3"
      },
      "execution_count": null,
      "outputs": []
    },
    {
      "cell_type": "markdown",
      "source": [
        "## Create sequences for sentences"
      ],
      "metadata": {
        "id": "sI3-RhCUbDxp"
      }
    },
    {
      "cell_type": "code",
      "source": [
        "sequences =tokenizer.texts_to_sequences(train_sentences)"
      ],
      "metadata": {
        "id": "Nj5aPHZ7bAdH"
      },
      "execution_count": null,
      "outputs": []
    },
    {
      "cell_type": "code",
      "source": [
        "#print word index dictionary and sequences\n",
        "print(f\"word index -->{word_index}\")\n",
        "print(f\"Sequences of words -->{sequences}\")"
      ],
      "metadata": {
        "id": "TOsnFXGqbRtG"
      },
      "execution_count": null,
      "outputs": []
    },
    {
      "cell_type": "code",
      "source": [
        "train_sentences[0],sequences[0]"
      ],
      "metadata": {
        "id": "3CH_lVqnbiRX"
      },
      "execution_count": null,
      "outputs": []
    },
    {
      "cell_type": "markdown",
      "source": [
        "## Tokenizing new data using the same tokenizer"
      ],
      "metadata": {
        "id": "z-rwLna2b9RL"
      }
    },
    {
      "cell_type": "code",
      "source": [
        "new_sentences = [\n",
        "                 'Will it be raining today?',\n",
        "                 'It is a pleasant day.']"
      ],
      "metadata": {
        "id": "9LLiKIFwbw04"
      },
      "execution_count": null,
      "outputs": []
    },
    {
      "cell_type": "code",
      "source": [
        "new_sequences = tokenizer.texts_to_sequences(new_sentences)"
      ],
      "metadata": {
        "id": "boe7oQgdb_-s"
      },
      "execution_count": null,
      "outputs": []
    },
    {
      "cell_type": "code",
      "source": [
        "print(new_sentences)\n",
        "print(new_sequences)"
      ],
      "metadata": {
        "id": "Ms9x5sVNcUM3"
      },
      "execution_count": null,
      "outputs": []
    },
    {
      "cell_type": "markdown",
      "source": [
        "## Replacing newly encountered words with special values"
      ],
      "metadata": {
        "id": "wddOiXJKcX1J"
      }
    },
    {
      "cell_type": "code",
      "source": [
        "tokenizer = Tokenizer(num_words=100 , oov_token=\"<oov>\")\n",
        "\n",
        "tokenizer.fit_on_texts(train_sentences)\n",
        "\n",
        "word_index = tokenizer.word_index"
      ],
      "metadata": {
        "id": "NcpMboWGcUpW"
      },
      "execution_count": null,
      "outputs": []
    },
    {
      "cell_type": "code",
      "source": [
        "new_sequences = tokenizer.texts_to_sequences(new_sentences)\n",
        "print(word_index)\n",
        "print(new_sentences)\n",
        "print(new_sequences)"
      ],
      "metadata": {
        "id": "xnUf8wAicwgX"
      },
      "execution_count": null,
      "outputs": []
    },
    {
      "cell_type": "code",
      "source": [],
      "metadata": {
        "id": "jJzCQy7KdBqn"
      },
      "execution_count": null,
      "outputs": []
    }
  ]
}