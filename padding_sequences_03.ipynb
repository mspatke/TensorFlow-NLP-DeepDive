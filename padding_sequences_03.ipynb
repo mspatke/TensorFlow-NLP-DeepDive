{
  "nbformat": 4,
  "nbformat_minor": 0,
  "metadata": {
    "colab": {
      "provenance": [],
      "authorship_tag": "ABX9TyOYRidtsvqRgd0SmJ9PJYrD",
      "include_colab_link": true
    },
    "kernelspec": {
      "name": "python3",
      "display_name": "Python 3"
    },
    "language_info": {
      "name": "python"
    }
  },
  "cells": [
    {
      "cell_type": "markdown",
      "metadata": {
        "id": "view-in-github",
        "colab_type": "text"
      },
      "source": [
        "<a href=\"https://colab.research.google.com/github/mspatke/TensorFlow-NLP-DeepDive/blob/main/padding_sequences_03.ipynb\" target=\"_parent\"><img src=\"https://colab.research.google.com/assets/colab-badge.svg\" alt=\"Open In Colab\"/></a>"
      ]
    },
    {
      "cell_type": "markdown",
      "source": [
        "# Padding the sequences\n",
        "\n",
        "The notebook explains how to manipulate sequences to make them of equal length using padding.\n",
        "\n",
        "\n",
        "#### Import the APIs"
      ],
      "metadata": {
        "id": "5zTLLI-4eXxP"
      }
    },
    {
      "cell_type": "code",
      "source": [
        "##import the required APIs\n",
        "\n",
        "from tensorflow.keras.preprocessing.text import Tokenizer\n",
        "from tensorflow.keras.preprocessing.sequence import pad_sequences"
      ],
      "metadata": {
        "id": "zLWCm85Gea5X"
      },
      "execution_count": 3,
      "outputs": []
    },
    {
      "cell_type": "markdown",
      "source": [
        "## Define the training sentences"
      ],
      "metadata": {
        "id": "nQEYgTwvfGvZ"
      }
    },
    {
      "cell_type": "code",
      "source": [
        "train_sentences = [\n",
        "                    'It will rain',\n",
        "                    'The weather is cloudy!',\n",
        "                    'Will it be raining today?',\n",
        "                    'It is a super hot day!',]"
      ],
      "metadata": {
        "id": "SCuVc01dfIfo"
      },
      "execution_count": 4,
      "outputs": []
    },
    {
      "cell_type": "markdown",
      "source": [
        "## Train the tokenizer"
      ],
      "metadata": {
        "id": "59i4BHlifsRm"
      }
    },
    {
      "cell_type": "code",
      "source": [
        "tokenizer = Tokenizer(num_words= 100 , oov_token='<oov>')\n",
        "\n",
        "tokenizer.fit_on_texts(train_sentences)\n",
        "\n",
        "word_index = tokenizer.word_index"
      ],
      "metadata": {
        "id": "7HnC5uX2fOWH"
      },
      "execution_count": 5,
      "outputs": []
    },
    {
      "cell_type": "code",
      "source": [
        "word_index"
      ],
      "metadata": {
        "colab": {
          "base_uri": "https://localhost:8080/"
        },
        "id": "Z13ZIsbwgxUp",
        "outputId": "a4ff43b8-15f7-421b-c6f8-5678ffa9ccc6"
      },
      "execution_count": 11,
      "outputs": [
        {
          "output_type": "execute_result",
          "data": {
            "text/plain": [
              "{'<oov>': 1,\n",
              " 'it': 2,\n",
              " 'will': 3,\n",
              " 'is': 4,\n",
              " 'rain': 5,\n",
              " 'the': 6,\n",
              " 'weather': 7,\n",
              " 'cloudy': 8,\n",
              " 'be': 9,\n",
              " 'raining': 10,\n",
              " 'today': 11,\n",
              " 'a': 12,\n",
              " 'super': 13,\n",
              " 'hot': 14,\n",
              " 'day': 15}"
            ]
          },
          "metadata": {},
          "execution_count": 11
        }
      ]
    },
    {
      "cell_type": "markdown",
      "source": [
        "## Create Sequences"
      ],
      "metadata": {
        "id": "Pk_Jr0mwgQpn"
      }
    },
    {
      "cell_type": "code",
      "source": [
        "##create sequences\n",
        "sequences = tokenizer.texts_to_sequences(train_sentences)"
      ],
      "metadata": {
        "id": "UVP-kFHugM8E"
      },
      "execution_count": 6,
      "outputs": []
    },
    {
      "cell_type": "markdown",
      "source": [
        "## Pad Sequences"
      ],
      "metadata": {
        "id": "9DxWoSL4gXD5"
      }
    },
    {
      "cell_type": "code",
      "source": [
        "##pad sequences\n",
        "padded_seqs = pad_sequences(sequences)"
      ],
      "metadata": {
        "id": "o3CV99AkgU8X"
      },
      "execution_count": 7,
      "outputs": []
    },
    {
      "cell_type": "code",
      "source": [
        "print(word_index)\n",
        "# print(train_sentences)\n",
        "# print(sequences)\n",
        "# print(padded_seqs)"
      ],
      "metadata": {
        "colab": {
          "base_uri": "https://localhost:8080/"
        },
        "id": "VDZ1jLcKgil3",
        "outputId": "28f0896a-2245-41db-ec52-8479fccda564"
      },
      "execution_count": 9,
      "outputs": [
        {
          "output_type": "stream",
          "name": "stdout",
          "text": [
            "{'<oov>': 1, 'it': 2, 'will': 3, 'is': 4, 'rain': 5, 'the': 6, 'weather': 7, 'cloudy': 8, 'be': 9, 'raining': 10, 'today': 11, 'a': 12, 'super': 13, 'hot': 14, 'day': 15}\n"
          ]
        }
      ]
    },
    {
      "cell_type": "code",
      "source": [
        "print(train_sentences)"
      ],
      "metadata": {
        "colab": {
          "base_uri": "https://localhost:8080/"
        },
        "id": "6T0ecKgUglf3",
        "outputId": "ec81b815-a1d7-4841-b355-2ac530e5083b"
      },
      "execution_count": 10,
      "outputs": [
        {
          "output_type": "stream",
          "name": "stdout",
          "text": [
            "['It will rain', 'The weather is cloudy!', 'Will it be raining today?', 'It is a super hot day!']\n"
          ]
        }
      ]
    },
    {
      "cell_type": "code",
      "source": [
        " print(sequences)"
      ],
      "metadata": {
        "colab": {
          "base_uri": "https://localhost:8080/"
        },
        "id": "HssBQj8cgq2n",
        "outputId": "16dac38f-8807-4b93-9d13-a093d4fcd5a4"
      },
      "execution_count": 12,
      "outputs": [
        {
          "output_type": "stream",
          "name": "stdout",
          "text": [
            "[[2, 3, 5], [6, 7, 4, 8], [3, 2, 9, 10, 11], [2, 4, 12, 13, 14, 15]]\n"
          ]
        }
      ]
    },
    {
      "cell_type": "code",
      "source": [
        " print(padded_seqs)"
      ],
      "metadata": {
        "colab": {
          "base_uri": "https://localhost:8080/"
        },
        "id": "VUN05EoNiG5z",
        "outputId": "a6b1b47f-ac20-4216-8f70-1fc2159c255c"
      },
      "execution_count": 13,
      "outputs": [
        {
          "output_type": "stream",
          "name": "stdout",
          "text": [
            "[[ 0  0  0  2  3  5]\n",
            " [ 0  0  6  7  4  8]\n",
            " [ 0  3  2  9 10 11]\n",
            " [ 2  4 12 13 14 15]]\n"
          ]
        }
      ]
    },
    {
      "cell_type": "markdown",
      "source": [
        "## Customising your padded sequence with parameters"
      ],
      "metadata": {
        "id": "JU0-5sb5l1TA"
      }
    },
    {
      "cell_type": "code",
      "source": [
        "padded_seq =  pad_sequences(sequences,\n",
        "                            maxlen=5,\n",
        "                            padding='post',\n",
        "                            truncating='post')"
      ],
      "metadata": {
        "id": "XOuyotTHiP4l"
      },
      "execution_count": 14,
      "outputs": []
    },
    {
      "cell_type": "code",
      "source": [
        "print(padded_seq)"
      ],
      "metadata": {
        "colab": {
          "base_uri": "https://localhost:8080/"
        },
        "id": "mF99hVZXmTB2",
        "outputId": "2f5b687b-d66d-4031-9764-2ab5a4b2138c"
      },
      "execution_count": 15,
      "outputs": [
        {
          "output_type": "stream",
          "name": "stdout",
          "text": [
            "[[ 2  3  5  0  0]\n",
            " [ 6  7  4  8  0]\n",
            " [ 3  2  9 10 11]\n",
            " [ 2  4 12 13 14]]\n"
          ]
        }
      ]
    },
    {
      "cell_type": "code",
      "source": [],
      "metadata": {
        "id": "-GPKGmALmV4V"
      },
      "execution_count": null,
      "outputs": []
    }
  ]
}