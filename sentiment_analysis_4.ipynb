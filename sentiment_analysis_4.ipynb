{
  "nbformat": 4,
  "nbformat_minor": 0,
  "metadata": {
    "colab": {
      "private_outputs": true,
      "provenance": [],
      "toc_visible": true,
      "authorship_tag": "ABX9TyOaT/oWluKrkB8z1rI6mMW0",
      "include_colab_link": true
    },
    "kernelspec": {
      "name": "python3",
      "display_name": "Python 3"
    },
    "language_info": {
      "name": "python"
    }
  },
  "cells": [
    {
      "cell_type": "markdown",
      "metadata": {
        "id": "view-in-github",
        "colab_type": "text"
      },
      "source": [
        "<a href=\"https://colab.research.google.com/github/mspatke/TensorFlow-NLP-DeepDive/blob/main/sentiment_analysis_4.ipynb\" target=\"_parent\"><img src=\"https://colab.research.google.com/assets/colab-badge.svg\" alt=\"Open In Colab\"/></a>"
      ]
    },
    {
      "cell_type": "markdown",
      "source": [
        "# Word Embeddings for Sentiment Analysis\n",
        "\n",
        "This notebook explains an introduction to word embeddings. We will train our own word embeddings using a simple Keras model for a sentiment classification task.\n",
        "\n",
        "Steps include:\n",
        "1. Downloading data from tensorflow dataset.\n",
        "2. Segregating training and testing sentences & labels.\n",
        "3. Data preparation to padded sequences\n",
        "4. Defining out Keras model with an Embedding layer.\n",
        "5. Train the model and explore the weights from the embedding layer.\n"
      ],
      "metadata": {
        "id": "Q40KK2XjKgrQ"
      }
    },
    {
      "cell_type": "code",
      "execution_count": null,
      "metadata": {
        "id": "ajL-O6pCKVGq"
      },
      "outputs": [],
      "source": [
        "# import required libraries\n",
        "\n",
        "import numpy as np\n",
        "import tensorflow as tf\n",
        "import tensorflow_datasets as tfds\n",
        "from tensorflow.keras.preprocessing.text import Tokenizer\n",
        "from tensorflow.keras.preprocessing.sequence import pad_sequences\n",
        "\n",
        "print(tf.__version__)"
      ]
    },
    {
      "cell_type": "markdown",
      "source": [
        "## Downloading the TensorFlow `imdb_review` dataset\n",
        "\n",
        "> Make sure tensorflow_datasets is installed"
      ],
      "metadata": {
        "id": "zqZHV8ByZfdL"
      }
    },
    {
      "cell_type": "code",
      "source": [
        "data , info = tfds.load(\"imdb_reviews\", with_info=True, as_supervised=True)\n"
      ],
      "metadata": {
        "id": "3cdn5hOBMnIM"
      },
      "execution_count": null,
      "outputs": []
    },
    {
      "cell_type": "code",
      "source": [
        "#seperating train and test dataset\n",
        "\n",
        "train_data , test_data = data['train'], data['test']"
      ],
      "metadata": {
        "id": "M7zVj6t0ZwA4"
      },
      "execution_count": null,
      "outputs": []
    },
    {
      "cell_type": "code",
      "source": [
        "len(train_data), len(test_data)"
      ],
      "metadata": {
        "id": "mqUOP1uGaJGR"
      },
      "execution_count": null,
      "outputs": []
    },
    {
      "cell_type": "code",
      "source": [
        "##create empty list to store sentences and labels\n",
        "train_sentences = []\n",
        "test_sentences = []\n",
        "\n",
        "train_labels = []\n",
        "test_labels = []\n",
        "\n",
        "\n",
        "#iterate over train_data to extract sentences\n",
        "\n",
        "for sent, label in train_data:\n",
        "  train_sentences.append(str(sent.numpy().decode('utf8')))\n",
        "  train_labels.append(label.numpy())\n"
      ],
      "metadata": {
        "id": "J9Qvj0hOaJ64"
      },
      "execution_count": null,
      "outputs": []
    },
    {
      "cell_type": "code",
      "source": [
        "train_sentences[1]"
      ],
      "metadata": {
        "id": "nQ3Lt1zaa8ej"
      },
      "execution_count": null,
      "outputs": []
    },
    {
      "cell_type": "code",
      "source": [
        "for sent, label in test_data:\n",
        "  test_sentences.append(str(sent.numpy().decode('utf8')))\n",
        "  test_labels.append(label.numpy())"
      ],
      "metadata": {
        "id": "W_NtmC-Ja_-W"
      },
      "execution_count": null,
      "outputs": []
    },
    {
      "cell_type": "code",
      "source": [
        "test_sentences[1]"
      ],
      "metadata": {
        "id": "dRNbMJbWbFOn"
      },
      "execution_count": null,
      "outputs": []
    },
    {
      "cell_type": "code",
      "source": [
        "##convert lists into numpy array\n",
        "train_labels = np.array(train_labels)\n",
        "test_labels = np.array(test_labels)"
      ],
      "metadata": {
        "id": "LnHC3oS1bHT4"
      },
      "execution_count": null,
      "outputs": []
    },
    {
      "cell_type": "markdown",
      "source": [
        "## Data preparation - setting up the tokenizer"
      ],
      "metadata": {
        "id": "aXKpVyYzdImS"
      }
    },
    {
      "cell_type": "code",
      "source": [
        "vocab_size = 10000\n",
        "embedding_dim=16\n",
        "max_length= 120\n",
        "trunc_type= 'post'\n",
        "oov_tok=\"<oov>\""
      ],
      "metadata": {
        "id": "BPvgrnovdFFI"
      },
      "execution_count": null,
      "outputs": []
    },
    {
      "cell_type": "code",
      "source": [
        "tokenizer = Tokenizer(num_words = vocab_size, oov_token=oov_tok)\n",
        "tokenizer.fit_on_texts(train_sentences)\n",
        "word_index=tokenizer.word_index\n",
        "\n",
        "\n",
        "train_seq= tokenizer.texts_to_sequences(train_sentences)\n",
        "train_padded =pad_sequences(train_seq, maxlen=max_length, truncating=trunc_type)\n",
        "\n",
        "\n",
        "test_seq = tokenizer.texts_to_sequences(test_sentences)\n",
        "test_padded = pad_sequences(test_seq, maxlen = max_length, truncating=trunc_type)\n",
        "\n"
      ],
      "metadata": {
        "id": "9zEIM61YdY_3"
      },
      "execution_count": null,
      "outputs": []
    },
    {
      "cell_type": "code",
      "source": [
        "reverse_word_index = dict([(value, key) for (key, value) in word_index.items()])\n",
        "\n",
        "def decode_review(text):\n",
        "    return ' '.join([reverse_word_index.get(i, '?') for i in text])\n",
        "\n",
        "print(train_sentences[1])\n",
        "print(train_padded[1])\n",
        "print(decode_review(train_padded[1]))"
      ],
      "metadata": {
        "id": "BUca9Y8JfVRT"
      },
      "execution_count": null,
      "outputs": []
    },
    {
      "cell_type": "markdown",
      "source": [
        "## Define the Neural Network with Embedding layer\n",
        "\n",
        "1. Use the Sequential API.\n",
        "2. Add an embedding input layer of input size equal to vocabulary size.\n",
        "3. Add a flatten layer, and two dense layers."
      ],
      "metadata": {
        "id": "78RWYVHngzcY"
      }
    },
    {
      "cell_type": "code",
      "source": [
        "model = tf.keras.Sequential([\n",
        "                          tf.keras.layers.Embedding(vocab_size , embedding_dim , input_length=max_length),\n",
        "                          tf.keras.layers.Flatten(),\n",
        "                          tf.keras.layers.Dense(6, activation ='relu'),\n",
        "                          tf.keras.layers.Dense(1, activation ='sigmoid')\n",
        "                            ])"
      ],
      "metadata": {
        "id": "_usESqTTfbcH"
      },
      "execution_count": null,
      "outputs": []
    },
    {
      "cell_type": "code",
      "source": [
        "model.compile(loss='binary_crossentropy', optimizer='adam', metrics=['accuracy'])\n",
        "model.summary()"
      ],
      "metadata": {
        "id": "12cCDimMheqi"
      },
      "execution_count": null,
      "outputs": []
    },
    {
      "cell_type": "markdown",
      "source": [
        "## Model Training"
      ],
      "metadata": {
        "id": "ywCPTyAnhygV"
      }
    },
    {
      "cell_type": "code",
      "source": [
        "num_epochs = 20\n",
        "\n",
        "model.fit(train_padded ,\n",
        "          train_labels,\n",
        "          epochs = num_epochs,\n",
        "          validation_data=(test_padded, test_labels))"
      ],
      "metadata": {
        "id": "pxPI-x3ShsB3"
      },
      "execution_count": null,
      "outputs": []
    },
    {
      "cell_type": "code",
      "source": [
        "l1 = model.layers[0]\n",
        "\n",
        "weights=l1.get_weights()[0]\n",
        "print(weights.shape) # shape: (vocab_size, embedding_dim)\n",
        "print(weights[0])"
      ],
      "metadata": {
        "id": "C2cceaZxiGGJ"
      },
      "execution_count": null,
      "outputs": []
    },
    {
      "cell_type": "code",
      "source": [
        "l1.get_weights()[0][0]"
      ],
      "metadata": {
        "id": "etLgRkrGiILF"
      },
      "execution_count": null,
      "outputs": []
    },
    {
      "cell_type": "code",
      "source": [],
      "metadata": {
        "id": "o01jqk1wkWxH"
      },
      "execution_count": null,
      "outputs": []
    }
  ]
}